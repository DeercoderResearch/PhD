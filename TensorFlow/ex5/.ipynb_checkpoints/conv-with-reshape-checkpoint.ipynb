{
 "cells": [
  {
   "cell_type": "markdown",
   "metadata": {
    "collapsed": true
   },
   "source": [
    "Example 5\n",
    "====\n",
    "\n",
    "This project is just for exploring how convolution computation is done in tensorflow, and check how to use different padding methods(`same`, `valid`), that should have an effect for the dimension of the output matrix/tensor\n",
    "\n",
    "\n",
    "Also, there is some background knowledge about the reshape function. That is tricky to make convolution, since sometimes it will affect how it works(or dimension mismatch error will occur if not in the right way)\n"
   ]
  },
  {
   "cell_type": "code",
   "execution_count": 40,
   "metadata": {
    "collapsed": true
   },
   "outputs": [],
   "source": [
    "import tensorflow as tf\n",
    "import numpy as np"
   ]
  },
  {
   "cell_type": "code",
   "execution_count": 41,
   "metadata": {
    "collapsed": true
   },
   "outputs": [],
   "source": [
    "def weight_variable(shape):\n",
    "    initial = tf.truncated_normal(shape, stddev=1)\n",
    "    return tf.Variable(initial, tf.int32)\n",
    "\n",
    "def bias_variable(shape):\n",
    "    initial = tf.constant(0.1, shape=shape)\n",
    "    return tf.Variable(initial)\n",
    "\n",
    "def conv2d(x, W):\n",
    "    return tf.nn.conv2d(x, W, strides=[1, 1, 1, 1], padding = 'SAME')\n",
    "\n",
    "def max_pool_2x2(x):\n",
    "    return tf.nn.max_pool(x, ksize=[1, 2, 2, 1], strides=[1, 2, 2, 1], padding='SAME')"
   ]
  },
  {
   "cell_type": "code",
   "execution_count": 47,
   "metadata": {
    "collapsed": true
   },
   "outputs": [],
   "source": [
    "patch1 = tf.Variable([[0., 1., 2.], [3., 4., 5.], [1., 2., 3.]], tf.float32)\n",
    "#conv_weight = tf.Variable([[-1., 0.], [0., 1.]], tf.float32)\n",
    "\n",
    "W_conv1 = weight_variable([2, 2, 1, 1])\n",
    "x_image = tf.reshape(patch1, [-1, 3, 3, 1])"
   ]
  },
  {
   "cell_type": "code",
   "execution_count": 62,
   "metadata": {
    "collapsed": false
   },
   "outputs": [
    {
     "data": {
      "text/plain": [
       "\"\\nresult for `VALID` padding, that should only contain the pixel inside it\\n\\n('X_a: ', array([[ 1.,  0.,  0.],\\n       [ 0.,  0.,  0.],\\n       [ 1.,  1.,  0.]], dtype=float32))\\n('X_k: ', array([[ 1.,  1.],\\n       [ 1.,  1.]], dtype=float32))\\n('X_res: ', array([[[[ 1.],\\n         [ 0.]],\\n\\n        [[ 2.],\\n         [ 1.]]]], dtype=float32))\\n\""
      ]
     },
     "execution_count": 62,
     "metadata": {},
     "output_type": "execute_result"
    }
   ],
   "source": [
    "a = np.random.randint(2, size=(3,3))\n",
    "k = [[1,1],[1,1]]\n",
    "\n",
    "tensor_a = tf.constant(a, tf.float32)\n",
    "tensor_k = tf.constant(k, tf.float32)\n",
    "\n",
    "# first is 3x3, first 1 dimension is the remaining, last 1 is the color channels, there is only 1 \n",
    "# for tensor_k, first two dimension is width x height, and first 1 is the input channel, last one is the output channel\n",
    "tensor_res = tf.nn.convolution(tf.reshape(tensor_a, [1, 3, 3, 1]), tf.reshape(tensor_k, [2, 2, 1, 1]), padding='VALID')\n",
    "\n",
    "\"\"\"\n",
    "result for `VALID` padding, that should only contain the pixel inside it\n",
    "\n",
    "('X_a: ', array([[ 1.,  0.,  0.],\n",
    "       [ 0.,  0.,  0.],\n",
    "       [ 1.,  1.,  0.]], dtype=float32))\n",
    "('X_k: ', array([[ 1.,  1.],\n",
    "       [ 1.,  1.]], dtype=float32))\n",
    "('X_res: ', array([[[[ 1.],\n",
    "         [ 0.]],\n",
    "\n",
    "        [[ 2.],\n",
    "         [ 1.]]]], dtype=float32))\n",
    "\"\"\""
   ]
  },
  {
   "cell_type": "code",
   "execution_count": 57,
   "metadata": {
    "collapsed": true
   },
   "outputs": [],
   "source": [
    "a = np.random.randint(2, size=(3,3))\n",
    "k = [[1,1],[1,1]]\n",
    "\n",
    "tensor_a = tf.constant(a, tf.float32)\n",
    "tensor_k = tf.constant(k, tf.float32)\n",
    "\n",
    "tensor_res = tf.nn.convolution(tf.reshape(tensor_a, [1, 3, 3, 1]), tf.reshape(tensor_k, [2, 2, 1, 1]), padding='SAME')\n",
    "\n",
    "\"\"\"\n",
    "result for `SAME` padding, that can be outside, so dimension is the same as input layer\n",
    "\n",
    "\n",
    "('X_a: ', array([[ 1.,  1.,  0.],\n",
    "       [ 1.,  1.,  0.],\n",
    "       [ 0.,  1.,  1.]], dtype=float32))\n",
    "('X_k: ', array([[ 1.,  1.],\n",
    "       [ 1.,  1.]], dtype=float32))\n",
    "('X_res: ', array([[[[ 4.],\n",
    "         [ 2.],\n",
    "         [ 0.]],\n",
    "\n",
    "        [[ 3.],\n",
    "         [ 3.],\n",
    "         [ 1.]],\n",
    "\n",
    "        [[ 1.],\n",
    "         [ 2.],\n",
    "         [ 1.]]]], dtype=float32))\n",
    "\"\"\""
   ]
  },
  {
   "cell_type": "code",
   "execution_count": 58,
   "metadata": {
    "collapsed": false
   },
   "outputs": [
    {
     "name": "stdout",
     "output_type": "stream",
     "text": [
      "('X_a: ', array([[ 1.,  1.,  0.],\n",
      "       [ 1.,  1.,  0.],\n",
      "       [ 0.,  1.,  1.]], dtype=float32))\n",
      "('X_k: ', array([[ 1.,  1.],\n",
      "       [ 1.,  1.]], dtype=float32))\n",
      "('X_res: ', array([[[[ 4.],\n",
      "         [ 2.],\n",
      "         [ 0.]],\n",
      "\n",
      "        [[ 3.],\n",
      "         [ 3.],\n",
      "         [ 1.]],\n",
      "\n",
      "        [[ 1.],\n",
      "         [ 2.],\n",
      "         [ 1.]]]], dtype=float32))\n"
     ]
    }
   ],
   "source": [
    "with tf.Session() as sess:\n",
    "    sess.run(tf.global_variables_initializer())\n",
    "    result = conv2d(x_image, W_conv1)\n",
    "    #print(sess.run(x_image))\n",
    "    #print(sess.run(W_conv1))\n",
    "    #print(sess.run(result))\n",
    "    print(\"X_a: \", sess.run(tensor_a))\n",
    "    print(\"X_k: \", sess.run(tensor_k))\n",
    "    print(\"X_res: \", sess.run(tensor_res))\n",
    "    "
   ]
  },
  {
   "cell_type": "code",
   "execution_count": null,
   "metadata": {
    "collapsed": true
   },
   "outputs": [],
   "source": []
  },
  {
   "cell_type": "markdown",
   "metadata": {
    "collapsed": true
   },
   "source": [
    "### Another example for using reshape and convolution\n",
    "\n"
   ]
  },
  {
   "cell_type": "code",
   "execution_count": null,
   "metadata": {
    "collapsed": true
   },
   "outputs": [],
   "source": [
    "patch1 = tf.Variable([[0., 1., 2.], [3., 4., 5.], [1., 2., 3.]], tf.float32)\n",
    "#conv_weight = tf.Variable([[-1., 0.], [0., 1.]], tf.float32)\n",
    "\n",
    "conv_weight = tf.Variable([[-1., 0.], [0., 1.]], tf.float32)\n",
    "x_image = tf.reshape(patch1, [-1, 3, 3, 1])\n",
    "W_resize = tf.reshape(conv_weight, [2, 2, 1, 1])\n"
   ]
  },
  {
   "cell_type": "code",
   "execution_count": null,
   "metadata": {
    "collapsed": true
   },
   "outputs": [],
   "source": [
    "with tf.Session() as sess:\n",
    "    sess.run(tf.global_variables_initializer())\n",
    "    print(\"x_image: \", sess.run(x_image))\n",
    "    print(\"W_rezie: \", sess.run(W_resize))\n",
    "    print(\"Result: \", sess.run(tf.nn.conv2d(x_image, W_resize, strides = [1, 1, 1, 1], padding = 'VALID')))"
   ]
  },
  {
   "cell_type": "markdown",
   "metadata": {},
   "source": [
    "Results for the result:\n",
    "\n",
    "\n",
    "```\n",
    "('x_image: ', array([[[[ 0.],\n",
    "         [ 1.],\n",
    "         [ 2.]],\n",
    "\n",
    "        [[ 3.],\n",
    "         [ 4.],\n",
    "         [ 5.]],\n",
    "\n",
    "        [[ 1.],\n",
    "         [ 2.],\n",
    "         [ 3.]]]], dtype=float32))\n",
    "('W_rezie: ', array([[[[-1.]],\n",
    "\n",
    "        [[ 0.]]],\n",
    "\n",
    "\n",
    "       [[[ 0.]],\n",
    "\n",
    "        [[ 1.]]]], dtype=float32))\n",
    "('Result: ', array([[[[ 4.],\n",
    "         [ 4.]],\n",
    "\n",
    "        [[-1.],\n",
    "         [-1.]]]], dtype=float32))\n",
    "\n",
    "```"
   ]
  },
  {
   "cell_type": "code",
   "execution_count": null,
   "metadata": {
    "collapsed": true
   },
   "outputs": [],
   "source": []
  },
  {
   "cell_type": "code",
   "execution_count": null,
   "metadata": {
    "collapsed": true
   },
   "outputs": [],
   "source": []
  },
  {
   "cell_type": "code",
   "execution_count": null,
   "metadata": {
    "collapsed": true
   },
   "outputs": [],
   "source": []
  },
  {
   "cell_type": "code",
   "execution_count": null,
   "metadata": {
    "collapsed": true
   },
   "outputs": [],
   "source": []
  },
  {
   "cell_type": "code",
   "execution_count": null,
   "metadata": {
    "collapsed": true
   },
   "outputs": [],
   "source": []
  },
  {
   "cell_type": "code",
   "execution_count": null,
   "metadata": {
    "collapsed": true
   },
   "outputs": [],
   "source": []
  },
  {
   "cell_type": "code",
   "execution_count": null,
   "metadata": {
    "collapsed": true
   },
   "outputs": [],
   "source": []
  },
  {
   "cell_type": "markdown",
   "metadata": {
    "collapsed": true
   },
   "source": [
    "## Appendix\n",
    "\n",
    "Reshapes a tensor.\n",
    "\n",
    "Given tensor, this operation returns a tensor that has the same values as tensor with shape shape.\n",
    "\n",
    "If one component of shape is the special value -1, the size of that dimension is computed so that the total size remains constant. In particular, a shape of [-1] flattens into 1-D. At most one component of shape can be -1.\n",
    "\n",
    "If shape is 1-D or higher, then the operation returns a tensor with shape shape filled with the values of tensor. In this case, the number of elements implied by shape must be the same as the number of elements in tensor."
   ]
  },
  {
   "cell_type": "code",
   "execution_count": 59,
   "metadata": {
    "collapsed": false
   },
   "outputs": [
    {
     "ename": "SyntaxError",
     "evalue": "invalid syntax (<ipython-input-59-daf3c3904a8e>, line 3)",
     "output_type": "error",
     "traceback": [
      "\u001b[0;36m  File \u001b[0;32m\"<ipython-input-59-daf3c3904a8e>\"\u001b[0;36m, line \u001b[0;32m3\u001b[0m\n\u001b[0;31m    reshape(t, [3, 3]) ==> [[1, 2, 3],\u001b[0m\n\u001b[0m                         ^\u001b[0m\n\u001b[0;31mSyntaxError\u001b[0m\u001b[0;31m:\u001b[0m invalid syntax\n"
     ]
    }
   ],
   "source": [
    "# tensor 't' is [1, 2, 3, 4, 5, 6, 7, 8, 9]\n",
    "# tensor 't' has shape [9]\n",
    "reshape(t, [3, 3]) ==> [[1, 2, 3],\n",
    "                        [4, 5, 6],\n",
    "                        [7, 8, 9]]\n",
    "\n",
    "# tensor 't' is [[[1, 1], [2, 2]],\n",
    "#                [[3, 3], [4, 4]]]\n",
    "# tensor 't' has shape [2, 2, 2]\n",
    "reshape(t, [2, 4]) ==> [[1, 1, 2, 2],\n",
    "                        [3, 3, 4, 4]]\n",
    "\n",
    "# tensor 't' is [[[1, 1, 1],\n",
    "#                 [2, 2, 2]],\n",
    "#                [[3, 3, 3],\n",
    "#                 [4, 4, 4]],\n",
    "#                [[5, 5, 5],\n",
    "#                 [6, 6, 6]]]\n",
    "# tensor 't' has shape [3, 2, 3]\n",
    "# pass '[-1]' to flatten 't'\n",
    "reshape(t, [-1]) ==> [1, 1, 1, 2, 2, 2, 3, 3, 3, 4, 4, 4, 5, 5, 5, 6, 6, 6]\n",
    "\n",
    "# -1 can also be used to infer the shape\n",
    "\n",
    "# -1 is inferred to be 9:\n",
    "reshape(t, [2, -1]) ==> [[1, 1, 1, 2, 2, 2, 3, 3, 3],\n",
    "                         [4, 4, 4, 5, 5, 5, 6, 6, 6]]\n",
    "# -1 is inferred to be 2:\n",
    "reshape(t, [-1, 9]) ==> [[1, 1, 1, 2, 2, 2, 3, 3, 3],\n",
    "                         [4, 4, 4, 5, 5, 5, 6, 6, 6]]\n",
    "# -1 is inferred to be 3:\n",
    "reshape(t, [ 2, -1, 3]) ==> [[[1, 1, 1],\n",
    "                              [2, 2, 2],\n",
    "                              [3, 3, 3]],\n",
    "                             [[4, 4, 4],\n",
    "                              [5, 5, 5],\n",
    "                              [6, 6, 6]]]\n",
    "\n",
    "# tensor 't' is [7]\n",
    "# shape `[]` reshapes to a scalar\n",
    "reshape(t, []) ==> 7"
   ]
  },
  {
   "cell_type": "code",
   "execution_count": null,
   "metadata": {
    "collapsed": true
   },
   "outputs": [],
   "source": []
  },
  {
   "cell_type": "code",
   "execution_count": null,
   "metadata": {
    "collapsed": true
   },
   "outputs": [],
   "source": []
  },
  {
   "cell_type": "code",
   "execution_count": null,
   "metadata": {
    "collapsed": true
   },
   "outputs": [],
   "source": []
  },
  {
   "cell_type": "code",
   "execution_count": null,
   "metadata": {
    "collapsed": true
   },
   "outputs": [],
   "source": []
  },
  {
   "cell_type": "code",
   "execution_count": null,
   "metadata": {
    "collapsed": true
   },
   "outputs": [],
   "source": []
  },
  {
   "cell_type": "code",
   "execution_count": null,
   "metadata": {
    "collapsed": true
   },
   "outputs": [],
   "source": []
  },
  {
   "cell_type": "code",
   "execution_count": null,
   "metadata": {
    "collapsed": true
   },
   "outputs": [],
   "source": []
  },
  {
   "cell_type": "code",
   "execution_count": null,
   "metadata": {
    "collapsed": true
   },
   "outputs": [],
   "source": []
  },
  {
   "cell_type": "code",
   "execution_count": null,
   "metadata": {
    "collapsed": true
   },
   "outputs": [],
   "source": []
  },
  {
   "cell_type": "code",
   "execution_count": null,
   "metadata": {
    "collapsed": true
   },
   "outputs": [],
   "source": []
  }
 ],
 "metadata": {
  "kernelspec": {
   "display_name": "Python 2",
   "language": "python",
   "name": "python2"
  },
  "language_info": {
   "codemirror_mode": {
    "name": "ipython",
    "version": 2
   },
   "file_extension": ".py",
   "mimetype": "text/x-python",
   "name": "python",
   "nbconvert_exporter": "python",
   "pygments_lexer": "ipython2",
   "version": "2.7.13"
  }
 },
 "nbformat": 4,
 "nbformat_minor": 2
}
